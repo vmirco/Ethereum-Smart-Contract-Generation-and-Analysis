{
  "cells": [
    {
      "cell_type": "markdown",
      "source": [
        "# **Ethereum Smart Contracts Security Analysis**\n",
        "\n",
        "In this notebook we are going to analyze the state of the abilities of **LLMs** in the context of code generation, particularly for the generation of smart contracts in Solidity, in the Ethereum blockchain.\n",
        "\n",
        "---\n",
        "\n",
        "(*At this moment we are using a dataset and we are no more genrating the prompt ourself, but there's also the old code for prompt generation starting from a dataset containing smart contracts in solidity*)\n",
        "\n",
        "**Hugginface Dataset**: *https://huggingface.co/datasets/braindao/Solidity-Dataset*\n",
        "\n",
        "The steps will be the following:\n",
        "\n",
        "1.   *Import contracts and turn them into prompt* (**OPTIONAL**)\n",
        "\n",
        "1.   Import dataset containing the prompts for the generation\n",
        "\n",
        "2.   Setup OpenAI with API key\n",
        "\n",
        "3.   Setup a text to give as input to the LLM coder containing instructions for the generation\n",
        "\n",
        "4.   **Generate smart contracts**\n",
        "\n",
        "\n",
        "\n"
      ],
      "metadata": {
        "id": "H1aJQprbnGrt"
      }
    },
    {
      "cell_type": "code",
      "execution_count": null,
      "metadata": {
        "id": "PGdzOt3oSWZV"
      },
      "outputs": [],
      "source": [
        "%%capture\n",
        "\n",
        "from google.colab import drive\n",
        "drive.mount('/content/drive')\n",
        "\n",
        "#UNCOMMENT FIRST THREE LINES IF YOU ARE USING CONTRACT DATASET FOR PROMPT GENERATION\n",
        "\n",
        "#!unzip /content/drive/MyDrive/Ethereum_smart_contract_datast\n",
        "\n",
        "#import shutil\n",
        "#shutil.rmtree('/content/__MACOSX')\n",
        "#shutil.rmtree('/content/Ethereum_smart_contract_datast')"
      ]
    },
    {
      "cell_type": "markdown",
      "source": [
        "**Setup OpenAI with his API key**"
      ],
      "metadata": {
        "id": "Y-0ifPZMsR1t"
      }
    },
    {
      "cell_type": "code",
      "execution_count": null,
      "metadata": {
        "id": "F61ZV8_RRUdq"
      },
      "outputs": [],
      "source": [
        "%%capture\n",
        "\n",
        "!pip install openai\n",
        "from openai import OpenAI\n",
        "\n",
        "client = OpenAI(\n",
        "    api_key = \"sk-proj-26o9GRGD0cW0A9kqvPU1T3BlbkFJ6p9RZh3XMndU7Tvoauym\",\n",
        ")"
      ]
    },
    {
      "cell_type": "markdown",
      "source": [
        "## **Contract collection**\n",
        "\n",
        "The following cell is used if we are going to generate the prompts ourself.\n",
        "To do so we load a dataset taken from Github containing a huge amount of smart contracts written for Ethereum in Solidity. We collect a fixed number of contracts to save in local in order to pass them to the prompt generator.\n",
        "\n",
        "**YOU CAN SKIP IT IF YOU ARE USING A PROMPT DATASET**\n",
        "\n"
      ],
      "metadata": {
        "id": "lWrdMnUurq9n"
      }
    },
    {
      "cell_type": "code",
      "execution_count": null,
      "metadata": {
        "id": "S2FoS7HxBYDR"
      },
      "outputs": [],
      "source": [
        "import os\n",
        "\n",
        "contract_codes = []\n",
        "#The dataset is on my Google Drive\n",
        "source_directory = '/content/Ethereum_smart_contract_datast/contract_dataset_github/'\n",
        "codes_collected = 0\n",
        "codes_needed = 500 #To increase the dataset size\n",
        "\n",
        "for root, dirs, files in os.walk(source_directory):\n",
        "    for file in files:\n",
        "        if file.endswith('.sol'):\n",
        "            file_path = os.path.join(root, file)\n",
        "            with open(file_path, 'r') as file:\n",
        "                contract_codes.append(file.read()) #Add the contract code to the array codes_collected\n",
        "                codes_collected += 1\n",
        "                if codes_collected >= codes_needed:\n",
        "                    break\n",
        "\n",
        "    #Stop we you reached the requested number of contracts\n",
        "    if codes_collected >= codes_needed:\n",
        "        break\n",
        "\n",
        "#print(f\"Contracts collected: {len(contract_codes)}\")"
      ]
    },
    {
      "cell_type": "code",
      "execution_count": null,
      "metadata": {
        "id": "L5QAOzKVB9NW"
      },
      "outputs": [],
      "source": [
        "#IF YOU WANT TO SEE ONE OF THE CONTRACTS COLLECTED\n",
        "index_to_print = 100\n",
        "\n",
        "if 0 <= index_to_print < len(contract_codes):\n",
        "    print(f\"Contract code {index_to_print + 1}:\")\n",
        "    print(contract_codes[index_to_print])\n",
        "else:\n",
        "    print(\"Invalid index\")\n"
      ]
    },
    {
      "cell_type": "markdown",
      "metadata": {
        "id": "8_YqD6r3hT8c"
      },
      "source": [
        "## **PROMPT GENERATOR**\n",
        "\n",
        "In this section we proceed to generate the prompts for the LLMs.\n",
        "\n",
        "**YOU CAN SKIP IT IF YOU ARE USING A PROMPT DATASET**\n",
        "\n",
        "To do so we defined two different instructions, which gives different level of deepness to the contract generated. **At this moment** the preferred one is **instructions1**"
      ]
    },
    {
      "cell_type": "code",
      "execution_count": null,
      "metadata": {
        "id": "bOEG8skomDDp"
      },
      "outputs": [],
      "source": [
        "instructions1 = \"\"\"\n",
        "Generate a prompt for an AI model for creating a contract starting from the smart contract code the user gives you.\n",
        "Underline that it should be in solidity\n",
        "The prompt should be a description of the contract, stating the purpose of it and its rules.\n",
        "If I give the prompt to another AI model it should generate pretty much the same contract.\n",
        "Specify the rules, the purpose and the general description of the code.\n",
        "\"\"\"\n",
        "\n",
        "instructions2 = \"\"\"\n",
        "Generate a prompt for creating a contract starting from the smart contract code the user gives you.\n",
        "Underline that it should be in solidity\n",
        "The prompt should be a description of the contract, stating the purpose of it and its rules.\n",
        "If I give the prompt to another AI model it should generate pretty much the same contract.\n",
        "It should be a simple description\n",
        "Not possible to modify or add anything with respect to the given prompt\n",
        "\"\"\""
      ]
    },
    {
      "cell_type": "markdown",
      "source": [
        "We give to the generator two parameters:\n",
        "\n",
        "\n",
        "*   The instructions for the generation\n",
        "*   The smart contract that should be turned into prompt\n",
        "\n"
      ],
      "metadata": {
        "id": "d6so53dQxW9N"
      }
    },
    {
      "cell_type": "code",
      "execution_count": null,
      "metadata": {
        "id": "NXLX0LKMc3th"
      },
      "outputs": [],
      "source": [
        "def prompt_generatorv1(smartcontract, generator_instructions):\n",
        "    response = client.chat.completions.create(\n",
        "        model = \"gpt-3.5-turbo\",\n",
        "        messages = [\n",
        "          {\"role\": \"system\", \"content\": generator_instructions},\n",
        "          {\"role\": \"user\", \"content\": smartcontract},\n",
        "        ]\n",
        "    )\n",
        "\n",
        "    generated_prompt = response.choices[0].message.content.strip()\n",
        "\n",
        "    return generated_prompt"
      ]
    },
    {
      "cell_type": "markdown",
      "source": [
        "**GENERATE 500 PROMPTS SELECTING A RANDOM CONTRACT AND TURNING IT INTO PROMPT**"
      ],
      "metadata": {
        "id": "dYAMcx8MyAQX"
      }
    },
    {
      "cell_type": "code",
      "execution_count": null,
      "metadata": {
        "id": "WedDBoeWD5_4"
      },
      "outputs": [],
      "source": [
        "import random\n",
        "\n",
        "prompts = []\n",
        "how_many_prompts = 500\n",
        "\n",
        "for _ in range(how_many_prompts):\n",
        "    #Random contract selection\n",
        "    contract_index = random.randint(0, len(contract_codes) - 1)\n",
        "    selected_contract = contract_codes[contract_index]\n",
        "\n",
        "    prompts.append(prompt_generatorv1(selected_contract, instructions1))\n"
      ]
    },
    {
      "cell_type": "markdown",
      "source": [
        "**CELL USED TO PRINT A SELECTED PROMPT JUST TO CHECK**"
      ],
      "metadata": {
        "id": "yEwkeyDPyH_1"
      }
    },
    {
      "cell_type": "code",
      "execution_count": null,
      "metadata": {
        "id": "ce5I3Zp0F2-h"
      },
      "outputs": [],
      "source": [
        "index_to_print = 14\n",
        "\n",
        "if 0 <= index_to_print < len(prompts):\n",
        "    print(f\"My generated prompt {index_to_print + 1}:\")\n",
        "    print(prompts[index_to_print])\n",
        "else:\n",
        "    print(\"Invalid index\")"
      ]
    },
    {
      "cell_type": "markdown",
      "metadata": {
        "id": "vH0Q71yuMYlh"
      },
      "source": [
        "**PROMPT DATASET EXPORT AS A CSV FILE**"
      ]
    },
    {
      "cell_type": "code",
      "execution_count": null,
      "metadata": {
        "id": "PKq7DK-7MJ0m"
      },
      "outputs": [],
      "source": [
        "data = {\"Prompt\": prompts}\n",
        "df = pd.DataFrame(data)\n",
        "\n",
        "#Exporting dataset\n",
        "csv_file_path = \"/content/test_prompts_dataset.csv\"  #UNDER CONTRUCTION\n",
        "df.to_csv(csv_file_path, index=False)\n",
        "\n",
        "print(f\"DATASET SAVED IN {csv_file_path}\")\n"
      ]
    },
    {
      "cell_type": "markdown",
      "source": [
        "##**DATASET LOADING FROM HUGGINFACE**\n",
        "\n",
        "In this section we load the dataset from Hugginface, the link is available at the beginning of this notebook"
      ],
      "metadata": {
        "id": "eZFJ156URBBR"
      }
    },
    {
      "cell_type": "code",
      "source": [
        "import pandas as pd\n",
        "from IPython.display import display\n",
        "\n",
        "prompt_dataset = pd.read_parquet(\"hf://datasets/braindao/Solidity-Dataset/SolidityP.parquet\")\n",
        "#display(prompt_dataset[['average']])"
      ],
      "metadata": {
        "id": "xYydE_1GZL_U"
      },
      "execution_count": null,
      "outputs": []
    },
    {
      "cell_type": "markdown",
      "source": [
        "**CELL TO CHECK THE CONTENT OF THE DATASET, WE ARE USING COLUMN AVERAGE**"
      ],
      "metadata": {
        "id": "ajNOL1MC0ogG"
      }
    },
    {
      "cell_type": "code",
      "source": [
        "sample_row = prompt_dataset.sample(n=1).iloc[0]\n",
        "print(sample_row['average'])"
      ],
      "metadata": {
        "id": "raMRN3Edvn5A",
        "colab": {
          "base_uri": "https://localhost:8080/"
        },
        "outputId": "f18eb557-f6dd-49f6-df2f-d3b4ee5eb67b"
      },
      "execution_count": null,
      "outputs": [
        {
          "output_type": "stream",
          "name": "stdout",
          "text": [
            "Develop a smart contract that conforms to the IERC20 standard. Implement the totalSupply, balanceOf, transfer, approve, transferFrom, allowance functions. Use the SafeMath library to prevent arithmetic overflows. Emit events when transfers and approvals occur.\n"
          ]
        }
      ]
    },
    {
      "cell_type": "markdown",
      "source": [
        "## **CODE GENERATION WITH GPT-4**\n",
        "\n",
        "In this section we proceed to actually generate the code for the smart contracts, using GPT4 model. To do so we define the instructions to give to the coder and we decide how many contracts we want to generate, in our case we are going to generate 500 smart contracts\n",
        "\n",
        "\n"
      ],
      "metadata": {
        "id": "JybNJMXltD5N"
      }
    },
    {
      "cell_type": "code",
      "execution_count": null,
      "metadata": {
        "id": "LmOrQ4qCOZLN"
      },
      "outputs": [],
      "source": [
        "#CODER INSTRUCTIONS\n",
        "\n",
        "coder = \"\"\"\n",
        "Give me a deployable smart contract code in solidity, using latest compiler version, based on the prompt\n",
        "The file should contain ONLY solidity code, no comments or \"```sol\"\n",
        "I should be able to copy your response and paste it in a sol file to deploy\n",
        "\n",
        "\"\"\""
      ]
    },
    {
      "cell_type": "markdown",
      "source": [
        "**CODE GENERATOR PARAMETERS**\n",
        "\n",
        "*   **Coder instructions** defined above\n",
        "*   **Prompt** used for the generation\n",
        "\n"
      ],
      "metadata": {
        "id": "R-6npsZR01TM"
      }
    },
    {
      "cell_type": "code",
      "execution_count": null,
      "metadata": {
        "id": "NTUk8VCINljF",
        "colab": {
          "base_uri": "https://localhost:8080/"
        },
        "outputId": "208560a4-eb77-4915-94d3-f2519b9044a5"
      },
      "outputs": [
        {
          "output_type": "stream",
          "name": "stdout",
          "text": [
            "Prompt selected: \n",
            "\n",
            "\n",
            "Create a smart contract that builds upon the WETHOmnibridgeRouter contract by adding features for account registration, token wrapping, and relay. The contract should integrate with the Omnibridge and WETH contracts. Include methods for registering and wrapping tokens, as well as functionality for relaying tokens to specific recipients. The contract should emit events upon successful token wrapping and relaying. Consider implementing  error handling and validation checks for user input.\n",
            "\n",
            "\n",
            "\n",
            "Contract generated: \n",
            "\n",
            "\n",
            "pragma solidity ^0.8.9;\n",
            "\n",
            "import \"@openzeppelin/contracts/token/ERC20/IERC20.sol\";\n",
            "import \"@openzeppelin/contracts/access/Ownable.sol\";\n",
            "\n",
            "interface IWETH {\n",
            "    function deposit() external payable;\n",
            "    function withdraw(uint wad) external;\n",
            "    function balanceOf(address guy) external returns (uint);\n",
            "    function approve(address guy, uint wad) external returns (bool);\n",
            "}\n",
            "\n",
            "interface IOmnibridge {\n",
            "    function relayTokens(\n",
            "        IERC20 _token,\n",
            "        address _receiver,\n",
            "        uint256 _value\n",
            "    ) external;\n",
            "    function bridgeContract() external view returns (address);\n",
            "}\n",
            "\n",
            "contract WrappedOmnibridge is Ownable {\n",
            "    IWETH public weth;\n",
            "    IOmnibridge public omnibridge;\n",
            "    mapping(address => bool) public registered;\n",
            "\n",
            "    event Registered(address account);\n",
            "    event Wrapped(address account, uint256 amount);\n",
            "    event Relayed(address account, uint256 amount);\n",
            "\n",
            "    constructor(address _weth, address _omnibridge) {\n",
            "        weth = IWETH(_weth);\n",
            "        omnibridge = IOmnibridge(_omnibridge);\n",
            "    }\n",
            "\n",
            "    function register() public {\n",
            "        require(!registered[msg.sender], \"Already registered\");\n",
            "        registered[msg.sender] = true;\n",
            "        emit Registered(msg.sender);\n",
            "    }\n",
            "\n",
            "    function wrap(uint256 _amount) public {\n",
            "        require(registered[msg.sender], \"Not registered\");\n",
            "        weth.deposit{value: _amount}();\n",
            "        emit Wrapped(msg.sender, _amount);\n",
            "    }\n",
            "\n",
            "    function relay(uint256 _amount, address _receiver) public onlyOwner {\n",
            "        require(weth.balanceOf(address(this)) >= _amount, \"Not enough WETH\");\n",
            "        weth.approve(omnibridge.bridgeContract(), _amount);\n",
            "        omnibridge.relayTokens(IERC20(weth), _receiver, _amount);\n",
            "        emit Relayed(_receiver, _amount);\n",
            "    }\n",
            "\n",
            "    receive() external payable {}\n",
            "}\n"
          ]
        }
      ],
      "source": [
        "def code_generator(prompt, coder_instructions):\n",
        "    response = client.chat.completions.create(\n",
        "        model = \"gpt-4\",\n",
        "        messages = [\n",
        "          {\"role\": \"system\", \"content\": coder_instructions},\n",
        "          {\"role\": \"user\", \"content\": prompt},\n",
        "        ]\n",
        "    )\n",
        "\n",
        "    generated_contract = response.choices[0].message.content.strip()\n",
        "\n",
        "    return generated_contract\n",
        "\n",
        "contracts_to_generate = 1 #SELECT NUMBER OF CONTRACTS NEEDED\n",
        "for i in range(contracts_to_generate):\n",
        "    contract = code_generator(prompt_dataset.loc[0, 'average'], coder) #Need to change the index of df.loc[] for multi contract generation\n",
        "\n",
        "#PRINT THE PROMPT USED\n",
        "print(\"Prompt selected: \\n\\n\")\n",
        "print(prompt_dataset.loc[0, 'average'])\n",
        "print(\"\\n\\n\")\n",
        "\n",
        "#RINT THE CONTRACT GENERATED\n",
        "print(\"Contract generated: \\n\\n\")\n",
        "print(contract)"
      ]
    },
    {
      "cell_type": "markdown",
      "source": [
        "**SAVE THE CONTRACT GENERATED IN A .sol FILE**"
      ],
      "metadata": {
        "id": "buN4PVx51ZCL"
      }
    },
    {
      "cell_type": "code",
      "execution_count": null,
      "metadata": {
        "id": "SoOT4J72QBPT",
        "colab": {
          "base_uri": "https://localhost:8080/"
        },
        "outputId": "bfafaa59-69d3-4662-a7aa-8b2f78749d74"
      },
      "outputs": [
        {
          "output_type": "stream",
          "name": "stdout",
          "text": [
            "CONTRACT SAVED: /content/generated_contract.sol\n"
          ]
        }
      ],
      "source": [
        "file_path = \"/content/generated_contract.sol\"\n",
        "with open(file_path, \"w\") as file:\n",
        "    file.write(contract)\n",
        "\n",
        "print(f\"CONTRACT SAVED: {file_path}\")"
      ]
    },
    {
      "cell_type": "markdown",
      "source": [
        "## **CODE GENERATION WITH DEEPSEEK-CODER**\n",
        "\n",
        "In this section we proceed to actually generate the code for the smart contracts, using DeepSeek-Coder model. To do so we define the instructions to give to the coder and we decide how many contracts we want to generate, in our case we are going to generate 500 smart contracts"
      ],
      "metadata": {
        "id": "UpLFO4jJLXyl"
      }
    },
    {
      "cell_type": "code",
      "source": [
        "#Remove the opening \"```solidity\" and closing \"```\" delimiters\n",
        "\n",
        "def remove_code_delimiters(generated_code):\n",
        "    #Split into lines\n",
        "    lines = generated_code.split('\\n')\n",
        "\n",
        "    #Remove the opening delimiter if it's in the first line\n",
        "    if lines[0].strip() == \"```solidity\":\n",
        "        lines = lines[1:]\n",
        "\n",
        "    #Remove the closing delimiter if it's in the last line\n",
        "    if lines[-1].strip() == \"```\":\n",
        "        lines = lines[:-1]\n",
        "\n",
        "    #Join the lines back together\n",
        "    cleaned_code = '\\n'.join(lines)\n",
        "    return cleaned_code"
      ],
      "metadata": {
        "id": "GPoweCb0UlGs"
      },
      "execution_count": null,
      "outputs": []
    },
    {
      "cell_type": "code",
      "source": [
        "deepseek_api_endpoint = \"https://api.deepseek.com\"\n",
        "deepseek_api_key = \"sk-3d5d08bce2524a879b71f77842deab28\"\n",
        "\n",
        "deepseek_coder_instructions = \"\"\"I will provide you a prompt to generate a smart contract.\n",
        "                                  The contract should be made only in SOLIDITY and it must be ready to deploy\n",
        "                                  only code , DO NOT PUT ```solidity\" AT THE BEGINNING OF THE RESPONSE NEITHER ``` AT THE END.\n",
        "                                  I want a fully deployable file with ONLY CODE.\"\"\"\n",
        "\n",
        "deepseek_prompt = \"Generate a simple hello world code in Python\"\n",
        "\n",
        "deepseek_client = OpenAI(api_key=deepseek_api_key, base_url=deepseek_api_endpoint)\n",
        "\n",
        "response = deepseek_client.chat.completions.create(\n",
        "    model=\"deepseek-chat\",\n",
        "    messages=[\n",
        "        {\"role\": \"system\", \"content\": deepseek_coder_instructions},\n",
        "        {\"role\": \"user\", \"content\": prompt_dataset.loc[5, 'average']},\n",
        "    ],\n",
        "    stream=False\n",
        ")\n",
        "\n",
        "print(\"Prompt from dataset: \", prompt_dataset.loc[5, 'average'])\n",
        "print(\"Generated code:\\n\", response.choices[0].message.content)\n",
        "print(\"\\nGenerated code without delimiters:\\n\", remove_code_delimiters(response.choices[0].message.content))"
      ],
      "metadata": {
        "colab": {
          "base_uri": "https://localhost:8080/"
        },
        "id": "DX9LUXWPOmv_",
        "outputId": "d1ce135f-9ec9-4921-ddc2-23c05cce3fc3"
      },
      "execution_count": null,
      "outputs": [
        {
          "output_type": "stream",
          "name": "stdout",
          "text": [
            "Prompt from dataset:  Design a smart contract that distributes tokens based on a time-vesting model with multiple claimable steps and a TGE event. The contract should allow users to claim tokens based on their proof of ownership and meet specific eligibility criteria. Incorporate a token, Merkle root, and TGE timestamp. Implement functions for checking and claiming tokens, utilizing import statements for OpenZeppelin libraries. Ensure events are triggered for claim, TGE, and step claim. The contract should have mappings for investors, categories, and claim states.\n",
            "Generated code:\n",
            " ```solidity\n",
            "// SPDX-License-Identifier: MIT\n",
            "pragma solidity ^0.8.0;\n",
            "\n",
            "import \"@openzeppelin/contracts/token/ERC20/IERC20.sol\";\n",
            "import \"@openzeppelin/contracts/access/Ownable.sol\";\n",
            "import \"@openzeppelin/contracts/utils/cryptography/MerkleProof.sol\";\n",
            "\n",
            "contract TokenVesting is Ownable {\n",
            "    IERC20 public token;\n",
            "    bytes32 public merkleRoot;\n",
            "    uint256 public tgeTimestamp;\n",
            "\n",
            "    struct VestingStep {\n",
            "        uint256 timestamp;\n",
            "        uint256 percentage;\n",
            "    }\n",
            "\n",
            "    mapping(address => uint256) public claimedAmounts;\n",
            "    mapping(address => bool) public hasClaimedTGE;\n",
            "    mapping(address => bool) public hasClaimedStep;\n",
            "    VestingStep[] public vestingSteps;\n",
            "\n",
            "    event TokensClaimed(address indexed beneficiary, uint256 amount);\n",
            "    event TGEDistributed(address indexed beneficiary, uint256 amount);\n",
            "    event StepClaimed(address indexed beneficiary, uint256 stepIndex, uint256 amount);\n",
            "\n",
            "    constructor(\n",
            "        IERC20 _token,\n",
            "        bytes32 _merkleRoot,\n",
            "        uint256 _tgeTimestamp,\n",
            "        VestingStep[] memory _vestingSteps\n",
            "    ) {\n",
            "        token = _token;\n",
            "        merkleRoot = _merkleRoot;\n",
            "        tgeTimestamp = _tgeTimestamp;\n",
            "        vestingSteps = _vestingSteps;\n",
            "    }\n",
            "\n",
            "    function claimTokens(\n",
            "        address beneficiary,\n",
            "        uint256 totalAmount,\n",
            "        bytes32[] calldata merkleProof\n",
            "    ) external {\n",
            "        require(block.timestamp >= tgeTimestamp, \"TGE not reached\");\n",
            "        require(MerkleProof.verify(merkleProof, merkleRoot, keccak256(abi.encodePacked(beneficiary, totalAmount))), \"Invalid proof\");\n",
            "\n",
            "        uint256 claimableAmount = calculateClaimableAmount(beneficiary, totalAmount);\n",
            "        require(claimableAmount > 0, \"No tokens to claim\");\n",
            "\n",
            "        claimedAmounts[beneficiary] += claimableAmount;\n",
            "        token.transfer(beneficiary, claimableAmount);\n",
            "\n",
            "        emit TokensClaimed(beneficiary, claimableAmount);\n",
            "    }\n",
            "\n",
            "    function distributeTGE(\n",
            "        address beneficiary,\n",
            "        uint256 tgeAmount,\n",
            "        bytes32[] calldata merkleProof\n",
            "    ) external onlyOwner {\n",
            "        require(!hasClaimedTGE[beneficiary], \"TGE already claimed\");\n",
            "        require(MerkleProof.verify(merkleProof, merkleRoot, keccak256(abi.encodePacked(beneficiary, tgeAmount))), \"Invalid proof\");\n",
            "\n",
            "        hasClaimedTGE[beneficiary] = true;\n",
            "        token.transfer(beneficiary, tgeAmount);\n",
            "\n",
            "        emit TGEDistributed(beneficiary, tgeAmount);\n",
            "    }\n",
            "\n",
            "    function claimStep(\n",
            "        address beneficiary,\n",
            "        uint256 stepIndex,\n",
            "        uint256 stepAmount,\n",
            "        bytes32[] calldata merkleProof\n",
            "    ) external {\n",
            "        require(stepIndex < vestingSteps.length, \"Invalid step index\");\n",
            "        require(block.timestamp >= vestingSteps[stepIndex].timestamp, \"Step not reached\");\n",
            "        require(!hasClaimedStep[beneficiary], \"Step already claimed\");\n",
            "        require(MerkleProof.verify(merkleProof, merkleRoot, keccak256(abi.encodePacked(beneficiary, stepAmount))), \"Invalid proof\");\n",
            "\n",
            "        hasClaimedStep[beneficiary] = true;\n",
            "        token.transfer(beneficiary, stepAmount);\n",
            "\n",
            "        emit StepClaimed(beneficiary, stepIndex, stepAmount);\n",
            "    }\n",
            "\n",
            "    function calculateClaimableAmount(address beneficiary, uint256 totalAmount) internal view returns (uint256) {\n",
            "        uint256 claimableAmount = 0;\n",
            "\n",
            "        if (!hasClaimedTGE[beneficiary]) {\n",
            "            claimableAmount += (totalAmount * 10) / 100; // 10% TGE\n",
            "        }\n",
            "\n",
            "        for (uint256 i = 0; i < vestingSteps.length; i++) {\n",
            "            if (!hasClaimedStep[beneficiary] && block.timestamp >= vestingSteps[i].timestamp) {\n",
            "                claimableAmount += (totalAmount * vestingSteps[i].percentage) / 100;\n",
            "            }\n",
            "        }\n",
            "\n",
            "        return claimableAmount - claimedAmounts[beneficiary];\n",
            "    }\n",
            "}\n",
            "```\n",
            "\n",
            "Generated code without delimiters:\n",
            " // SPDX-License-Identifier: MIT\n",
            "pragma solidity ^0.8.0;\n",
            "\n",
            "import \"@openzeppelin/contracts/token/ERC20/IERC20.sol\";\n",
            "import \"@openzeppelin/contracts/access/Ownable.sol\";\n",
            "import \"@openzeppelin/contracts/utils/cryptography/MerkleProof.sol\";\n",
            "\n",
            "contract TokenVesting is Ownable {\n",
            "    IERC20 public token;\n",
            "    bytes32 public merkleRoot;\n",
            "    uint256 public tgeTimestamp;\n",
            "\n",
            "    struct VestingStep {\n",
            "        uint256 timestamp;\n",
            "        uint256 percentage;\n",
            "    }\n",
            "\n",
            "    mapping(address => uint256) public claimedAmounts;\n",
            "    mapping(address => bool) public hasClaimedTGE;\n",
            "    mapping(address => bool) public hasClaimedStep;\n",
            "    VestingStep[] public vestingSteps;\n",
            "\n",
            "    event TokensClaimed(address indexed beneficiary, uint256 amount);\n",
            "    event TGEDistributed(address indexed beneficiary, uint256 amount);\n",
            "    event StepClaimed(address indexed beneficiary, uint256 stepIndex, uint256 amount);\n",
            "\n",
            "    constructor(\n",
            "        IERC20 _token,\n",
            "        bytes32 _merkleRoot,\n",
            "        uint256 _tgeTimestamp,\n",
            "        VestingStep[] memory _vestingSteps\n",
            "    ) {\n",
            "        token = _token;\n",
            "        merkleRoot = _merkleRoot;\n",
            "        tgeTimestamp = _tgeTimestamp;\n",
            "        vestingSteps = _vestingSteps;\n",
            "    }\n",
            "\n",
            "    function claimTokens(\n",
            "        address beneficiary,\n",
            "        uint256 totalAmount,\n",
            "        bytes32[] calldata merkleProof\n",
            "    ) external {\n",
            "        require(block.timestamp >= tgeTimestamp, \"TGE not reached\");\n",
            "        require(MerkleProof.verify(merkleProof, merkleRoot, keccak256(abi.encodePacked(beneficiary, totalAmount))), \"Invalid proof\");\n",
            "\n",
            "        uint256 claimableAmount = calculateClaimableAmount(beneficiary, totalAmount);\n",
            "        require(claimableAmount > 0, \"No tokens to claim\");\n",
            "\n",
            "        claimedAmounts[beneficiary] += claimableAmount;\n",
            "        token.transfer(beneficiary, claimableAmount);\n",
            "\n",
            "        emit TokensClaimed(beneficiary, claimableAmount);\n",
            "    }\n",
            "\n",
            "    function distributeTGE(\n",
            "        address beneficiary,\n",
            "        uint256 tgeAmount,\n",
            "        bytes32[] calldata merkleProof\n",
            "    ) external onlyOwner {\n",
            "        require(!hasClaimedTGE[beneficiary], \"TGE already claimed\");\n",
            "        require(MerkleProof.verify(merkleProof, merkleRoot, keccak256(abi.encodePacked(beneficiary, tgeAmount))), \"Invalid proof\");\n",
            "\n",
            "        hasClaimedTGE[beneficiary] = true;\n",
            "        token.transfer(beneficiary, tgeAmount);\n",
            "\n",
            "        emit TGEDistributed(beneficiary, tgeAmount);\n",
            "    }\n",
            "\n",
            "    function claimStep(\n",
            "        address beneficiary,\n",
            "        uint256 stepIndex,\n",
            "        uint256 stepAmount,\n",
            "        bytes32[] calldata merkleProof\n",
            "    ) external {\n",
            "        require(stepIndex < vestingSteps.length, \"Invalid step index\");\n",
            "        require(block.timestamp >= vestingSteps[stepIndex].timestamp, \"Step not reached\");\n",
            "        require(!hasClaimedStep[beneficiary], \"Step already claimed\");\n",
            "        require(MerkleProof.verify(merkleProof, merkleRoot, keccak256(abi.encodePacked(beneficiary, stepAmount))), \"Invalid proof\");\n",
            "\n",
            "        hasClaimedStep[beneficiary] = true;\n",
            "        token.transfer(beneficiary, stepAmount);\n",
            "\n",
            "        emit StepClaimed(beneficiary, stepIndex, stepAmount);\n",
            "    }\n",
            "\n",
            "    function calculateClaimableAmount(address beneficiary, uint256 totalAmount) internal view returns (uint256) {\n",
            "        uint256 claimableAmount = 0;\n",
            "\n",
            "        if (!hasClaimedTGE[beneficiary]) {\n",
            "            claimableAmount += (totalAmount * 10) / 100; // 10% TGE\n",
            "        }\n",
            "\n",
            "        for (uint256 i = 0; i < vestingSteps.length; i++) {\n",
            "            if (!hasClaimedStep[beneficiary] && block.timestamp >= vestingSteps[i].timestamp) {\n",
            "                claimableAmount += (totalAmount * vestingSteps[i].percentage) / 100;\n",
            "            }\n",
            "        }\n",
            "\n",
            "        return claimableAmount - claimedAmounts[beneficiary];\n",
            "    }\n",
            "}\n"
          ]
        }
      ]
    }
  ],
  "metadata": {
    "accelerator": "GPU",
    "colab": {
      "gpuType": "T4",
      "provenance": []
    },
    "kernelspec": {
      "display_name": "Python 3",
      "name": "python3"
    }
  },
  "nbformat": 4,
  "nbformat_minor": 0
}